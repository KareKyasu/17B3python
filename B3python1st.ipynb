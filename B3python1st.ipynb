{
 "cells": [
  {
   "cell_type": "code",
   "execution_count": 1,
   "metadata": {},
   "outputs": [],
   "source": [
    "%matplotlib inline\n",
    "import numpy as np\n",
    "import matplotlib.pyplot as plt"
   ]
  },
  {
   "cell_type": "code",
   "execution_count": 2,
   "metadata": {},
   "outputs": [
    {
     "data": {
      "image/png": "[encoded data removed]",
      "text/plain": [
       "<matplotlib.figure.Figure at 0x7f0c54bbeeb8>"
      ]
     },
     "metadata": {},
     "output_type": "display_data"
    }
   ],
   "source": [
    "A = np.random.rand(2,2)\n",
    "\n",
    "#v = np.random.randn(2)\n",
    "v = np.array([0,1])\n",
    "v = v / np.linalg.norm(v, ord=2)\n",
    "plt.plot(v[0], v[1], \"o\", label = 0)\n",
    "\n",
    "for i in range(1,10):\n",
    "    vv = A @ v\n",
    "    vv = vv / np.linalg.norm(vv, ord=2)\n",
    "    \n",
    "    if np.allclose(v, vv): break\n",
    "    else: v = vv\n",
    "    \n",
    "    plt.plot(v[0], v[1], \"o\", label = i)\n",
    "    \n",
    "lim = 1.2\n",
    "plt.xlim(-lim,lim);plt.ylim(-lim,lim);plt.grid()\n",
    "plt.legend();plt.show()"
   ]
  },
  {
   "cell_type": "markdown",
   "metadata": {},
   "source": [
    "## 自分のans"
   ]
  },
  {
   "cell_type": "code",
   "execution_count": 3,
   "metadata": {
    "scrolled": false
   },
   "outputs": [
    {
     "name": "stdout",
     "output_type": "stream",
     "text": [
      "固有値は 0.862840637761\n",
      "固有ベクトルは [ 0.81268103  0.58270879]\n"
     ]
    }
   ],
   "source": [
    "print(\"固有値は\",np.mean(A @ v / v))\n",
    "print(\"固有ベクトルは\",v)"
   ]
  },
  {
   "cell_type": "markdown",
   "metadata": {},
   "source": [
    "## numpyのans"
   ]
  },
  {
   "cell_type": "code",
   "execution_count": 4,
   "metadata": {},
   "outputs": [
    {
     "name": "stdout",
     "output_type": "stream",
     "text": [
      "固有値は 0.862839218721\n",
      "固有ベクトルは [ 0.81267963  0.58271075]\n",
      "固有値は -0.189665443889\n",
      "固有ベクトルは [-0.3943005   0.91898156]\n"
     ]
    }
   ],
   "source": [
    "ans = np.linalg.eig(A)\n",
    "\n",
    "print(\"固有値は\",ans[0][0])\n",
    "print(\"固有ベクトルは\",ans[1][:,0])\n",
    "print(\"固有値は\",ans[0][1])\n",
    "print(\"固有ベクトルは\",ans[1][:,1])"
   ]
  },
  {
   "cell_type": "code",
   "execution_count": null,
   "metadata": {},
   "outputs": [],
   "source": []
  }
 ],
 "metadata": {
  "kernelspec": {
   "display_name": "Python 3",
   "language": "python",
   "name": "python3"
  },
  "language_info": {
   "codemirror_mode": {
    "name": "ipython",
    "version": 3
   },
   "file_extension": ".py",
   "mimetype": "text/x-python",
   "name": "python",
   "nbconvert_exporter": "python",
   "pygments_lexer": "ipython3",
   "version": "3.6.3"
  }
 },
 "nbformat": 4,
 "nbformat_minor": 2
}
